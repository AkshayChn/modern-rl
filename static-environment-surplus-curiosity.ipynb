{
 "cells": [
  {
   "cell_type": "code",
   "execution_count": 63,
   "id": "e0ff631c",
   "metadata": {},
   "outputs": [],
   "source": [
    "from scipy.stats import bernoulli\n",
    "from scipy.stats import beta\n",
    "from scipy.stats import uniform \n",
    "import math\n",
    "\n",
    "DEFAULT_TEST_ROUNDS = 1000"
   ]
  },
  {
   "cell_type": "code",
   "execution_count": 46,
   "id": "7ef67cbb",
   "metadata": {},
   "outputs": [],
   "source": [
    "class Arm:\n",
    "    \n",
    "    def __init__(self, q):\n",
    "        self.quality     = q\n",
    "        self.num_pulled  = 0\n",
    "        self.num_rewards = 0\n",
    "    \n",
    "    def pullthisarm(self):\n",
    "        reward = bernoulli.rvs(size=1,p=self.quality)[0]\n",
    "        self.num_pulled +=1\n",
    "        self.num_rewards += reward\n",
    "        return reward\n",
    "\n",
    "class Envi:\n",
    "    \n",
    "    def __init__(self):\n",
    "        self.arms = []\n",
    "        \n",
    "        self.best_arm = None\n",
    "        self.cumul_regret = 0\n",
    "        self.cumul_regret_at_round = []\n",
    "        \n",
    "        self.best_arm_unseen = None\n",
    "        self.cumul_regret_unseen = 0\n",
    "        self.cumul_regret_at_round_unseen = []\n",
    "    \n",
    "    def addArm(self, newArm):\n",
    "        self.arms.append(newArm)\n",
    "    \n",
    "    def getQual(self, arm):\n",
    "        return arm.quality\n",
    "    \n",
    "    def getBestArm(self):\n",
    "        return self.best_arm\n",
    "    \n",
    "    def getNewArm(self):\n",
    "        qual = uniform.rvs(size=1)[0]\n",
    "        retArm = Arm(qual)\n",
    "        return retArm\n",
    "    \n",
    "    #hyphothetical get new arm remains\n",
    "    \n",
    "    def pullNewArm(self):\n",
    "        #qual = uniform.rvs(size=1)[0]\n",
    "        #newArm = Arm(qual)\n",
    "        newArm = self.getNewArm()\n",
    "        self.addArm(newArm)\n",
    "        self.best_arm = max(self.arms, key=self.getQual)\n",
    "        self.best_arm_unseen = self.best_arm\n",
    "        self.pull(newArm)\n",
    "    \n",
    "    def pull(self, arm):\n",
    "        reward = arm.pullthisarm()\n",
    "        self.cumul_regret += (self.best_arm.quality - arm.quality)\n",
    "        self.cumul_regret_at_round.append(self.cumul_regret)\n",
    "        \n",
    "        self.best_arm_unseen = max(self.best_arm, self.getNewArm(), key=self.getQual)\n",
    "        self.cumul_regret_unseen += (self.best_arm_unseen.quality - arm.quality)\n",
    "        self.cumul_regret_at_round_unseen.append(self.cumul_regret_unseen)\n",
    "        return reward"
   ]
  },
  {
   "cell_type": "markdown",
   "id": "9a80378e",
   "metadata": {},
   "source": [
    "# Testing"
   ]
  },
  {
   "cell_type": "code",
   "execution_count": 61,
   "id": "72530aed",
   "metadata": {},
   "outputs": [],
   "source": [
    "def quickTest(envr, agent, rounds=DEFAULT_TEST_ROUNDS):\n",
    "    e = Envi()\n",
    "    #rounds = 1000\n",
    "    ranAg = agent(e, rounds)\n",
    "    ranAg.playFull()\n",
    "\n",
    "    print(\"cumul regret\", e.cumul_regret)\n",
    "    #print(\"num pulls\", list(map(lambda x: x.num_pulled, e.arms)))\n",
    "    #print(\"num rewards\", list(map(lambda x: x.num_rewards, e.arms)))\n",
    "    #print(\"cumul_regret_at_round\", e.cumul_regret_at_round)\n",
    "    print(\"count cumul_regret_at_round\", len(e.cumul_regret_at_round))\n",
    "    \n",
    "    print(\"unseen regret\", e.cumul_regret_unseen)\n",
    "    #print(\"tot pulls\", sum(list(map(lambda x: x.num_pulled, e.arms))))\n",
    "    #print(\"num pulls\", list(map(lambda x: x.num_pulled, e.arms)))\n",
    "    #print(\"num rewards\", list(map(lambda x: x.num_rewards, e.arms)))\n",
    "    #print(\"cumul_regret_at_round\", e.cumul_regret_at_round)\n",
    "    print(\"count cumul_regret_at_round\", len(e.cumul_regret_at_round_unseen))\n",
    "    \n",
    "    import matplotlib.pyplot as plt\n",
    "    time_hor = range(rounds)\n",
    "    plt.plot(time_hor, e.cumul_regret_at_round)\n",
    "    plt.plot(time_hor, e.cumul_regret_at_round_unseen)\n",
    "    plt.xscale(\"log\")\n",
    "    plt.yscale(\"linear\")"
   ]
  },
  {
   "cell_type": "markdown",
   "id": "2c672886",
   "metadata": {},
   "source": [
    "# Agents"
   ]
  },
  {
   "cell_type": "code",
   "execution_count": 48,
   "id": "95e8b216",
   "metadata": {},
   "outputs": [],
   "source": [
    "# Agent abstract class\n",
    "class Agent:\n",
    "    #pulls random arm with p = 0.5 or explores new arm with p = 0.5\n",
    "    def __init__(self, envr, rounds):\n",
    "        self.envr = envr\n",
    "        self.total_rounds = rounds\n",
    "        self.round = 0\n",
    "        self.arm_pulled = []\n",
    "        self.rewards = []\n",
    "        self.total_reward = 0\n",
    "        \n",
    "    def playFull(self):\n",
    "        for i in range(self.total_rounds):\n",
    "            self.playRound()\n"
   ]
  },
  {
   "cell_type": "markdown",
   "id": "e28cee41",
   "metadata": {},
   "source": [
    "## Random Agent"
   ]
  },
  {
   "cell_type": "code",
   "execution_count": 49,
   "id": "ddb14831",
   "metadata": {},
   "outputs": [],
   "source": [
    "class RandomAgent(Agent):\n",
    "    \n",
    "    def playRound(self):\n",
    "        self.round += 1\n",
    "        available_arms = self.envr.arms\n",
    "        #print(available_arms)\n",
    "        ran = uniform.rvs(size=1)[0]\n",
    "        if len(self.envr.arms) == 0 or ran > 0.5:\n",
    "            self.envr.pullNewArm()\n",
    "        else:\n",
    "            ran2 = uniform.rvs(size=1)[0]\n",
    "            index = int(ran2*(len(self.envr.arms)))\n",
    "            #print(\"index\", index)\n",
    "            self.envr.pull(self.envr.arms[index])"
   ]
  },
  {
   "cell_type": "code",
   "execution_count": 50,
   "id": "5b968fc1",
   "metadata": {
    "scrolled": true
   },
   "outputs": [
    {
     "name": "stdout",
     "output_type": "stream",
     "text": [
      "cumul regret 4936.1670591060165\n",
      "count cumul_regret_at_round 10000\n",
      "unseen regret 4936.591181533367\n",
      "count cumul_regret_at_round 10000\n"
     ]
    },
    {
     "data": {
      "image/png": "[encoded data removed]",
      "text/plain": [
       "<Figure size 432x288 with 1 Axes>"
      ]
     },
     "metadata": {
      "needs_background": "light"
     },
     "output_type": "display_data"
    }
   ],
   "source": [
    "quickTest(1, RandomAgent)"
   ]
  },
  {
   "cell_type": "markdown",
   "id": "d112c03f",
   "metadata": {},
   "source": [
    "## Always-New Agent"
   ]
  },
  {
   "cell_type": "code",
   "execution_count": 51,
   "id": "7b852ef7",
   "metadata": {},
   "outputs": [],
   "source": [
    "class AlwaysNewAgent(Agent):\n",
    "    \n",
    "    def playRound(self):\n",
    "        self.round += 1\n",
    "        self.envr.pullNewArm()"
   ]
  },
  {
   "cell_type": "code",
   "execution_count": 52,
   "id": "46348174",
   "metadata": {},
   "outputs": [
    {
     "name": "stdout",
     "output_type": "stream",
     "text": [
      "cumul regret 4989.615476897824\n",
      "count cumul_regret_at_round 10000\n",
      "unseen regret 4990.555728037242\n",
      "count cumul_regret_at_round 10000\n"
     ]
    },
    {
     "data": {
      "image/png": "[encoded data removed]",
      "text/plain": [
       "<Figure size 432x288 with 1 Axes>"
      ]
     },
     "metadata": {
      "needs_background": "light"
     },
     "output_type": "display_data"
    }
   ],
   "source": [
    "quickTest(1, AlwaysNewAgent)"
   ]
  },
  {
   "cell_type": "markdown",
   "id": "c3aebe03",
   "metadata": {},
   "source": [
    "## UCB Agent"
   ]
  },
  {
   "cell_type": "code",
   "execution_count": 53,
   "id": "0683cfb1",
   "metadata": {},
   "outputs": [],
   "source": [
    "class NaiveUCBAgent(Agent):\n",
    "    def __init__(self, envr, rounds):\n",
    "        Agent.__init__(self, envr, rounds)\n",
    "        upper_conf_bound = []\n",
    "    \n",
    "    def playRound(self):\n",
    "        self.round += 1\n",
    "        available_arms = self.envr.arms\n",
    "        \n",
    "        if len(self.envr.arms) == 0 or uniform.rvs(size=1)[0] > 0.999:\n",
    "            self.envr.pullNewArm()\n",
    "        else:\n",
    "            upper_conf_bound = [None] * len(available_arms)\n",
    "            for i in range(len(available_arms)):\n",
    "                s_i = available_arms[i].num_rewards\n",
    "                n_i = available_arms[i].num_pulled\n",
    "                a = (s_i/(n_i))\n",
    "                b = (8 * math.log10(self.total_rounds+1))/(n_i)\n",
    "                r = (a + math.sqrt(b))\n",
    "\n",
    "                upper_conf_bound[i]=(r)\n",
    "            \n",
    "            max_smpl = max(upper_conf_bound)\n",
    "            max_i = upper_conf_bound.index(max_smpl)\n",
    "            self.envr.pull(self.envr.arms[max_i])"
   ]
  },
  {
   "cell_type": "code",
   "execution_count": 54,
   "id": "17a54a9c",
   "metadata": {},
   "outputs": [
    {
     "name": "stdout",
     "output_type": "stream",
     "text": [
      "cumul regret 174.35242637795056\n",
      "count cumul_regret_at_round 10000\n",
      "unseen regret 294.38715228599034\n",
      "count cumul_regret_at_round 10000\n"
     ]
    },
    {
     "data": {
      "image/png": "[encoded data removed]",
      "text/plain": [
       "<Figure size 432x288 with 1 Axes>"
      ]
     },
     "metadata": {
      "needs_background": "light"
     },
     "output_type": "display_data"
    }
   ],
   "source": [
    "quickTest(1, NaiveUCBAgent)"
   ]
  },
  {
   "cell_type": "markdown",
   "id": "273449dd",
   "metadata": {},
   "source": [
    "## Naive Thompson Sampling Agent"
   ]
  },
  {
   "cell_type": "code",
   "execution_count": 55,
   "id": "7296e057",
   "metadata": {},
   "outputs": [],
   "source": [
    "class NaiveTSAgent(Agent):\n",
    "    def __init__(self, envr, rounds):\n",
    "        Agent.__init__(self, envr, rounds)\n",
    "        upper_conf_bound = []\n",
    "    \n",
    "    def playRound(self):\n",
    "        self.round += 1\n",
    "        available_arms = self.envr.arms\n",
    "        \n",
    "        if len(self.envr.arms) == 0 or uniform.rvs(size=1)[0] > 0.99:\n",
    "            self.envr.pullNewArm()\n",
    "        else:\n",
    "            thm_smpl = [None] * len(available_arms)\n",
    "            for i in range(len(available_arms)):\n",
    "                s_i = available_arms[i].num_rewards\n",
    "                n_i = available_arms[i].num_pulled\n",
    "                a = s_i + 1\n",
    "                b = n_i - s_i + 1\n",
    "                \n",
    "                #print(\"a,b\", a, b)\n",
    "                r = beta.rvs(a, b, size=1)\n",
    "                thm_smpl[i]=r[0]\n",
    "                \n",
    "                #upper_conf_bound[i]=(r)\n",
    "            \n",
    "            max_smpl = max(thm_smpl)\n",
    "            max_i = thm_smpl.index(max_smpl)\n",
    "            self.envr.pull(self.envr.arms[max_i])"
   ]
  },
  {
   "cell_type": "code",
   "execution_count": 56,
   "id": "27062d76",
   "metadata": {},
   "outputs": [
    {
     "name": "stdout",
     "output_type": "stream",
     "text": [
      "cumul regret 161.53131019424208\n",
      "count cumul_regret_at_round 10000\n",
      "unseen regret 236.6466103155769\n",
      "count cumul_regret_at_round 10000\n"
     ]
    },
    {
     "data": {
      "image/png": "[encoded data removed]",
      "text/plain": [
       "<Figure size 432x288 with 1 Axes>"
      ]
     },
     "metadata": {
      "needs_background": "light"
     },
     "output_type": "display_data"
    }
   ],
   "source": [
    "quickTest(1, NaiveTSAgent)"
   ]
  },
  {
   "cell_type": "markdown",
   "id": "e83fd536",
   "metadata": {},
   "source": [
    "## Fair UCB"
   ]
  },
  {
   "cell_type": "code",
   "execution_count": 57,
   "id": "aaa3e2d1",
   "metadata": {},
   "outputs": [],
   "source": [
    "class FairUCBAgent(Agent):\n",
    "    def __init__(self, envr, rounds):\n",
    "        Agent.__init__(self, envr, rounds)\n",
    "        upper_conf_bound = []\n",
    "    \n",
    "    def playRound(self):\n",
    "        self.round += 1\n",
    "        available_arms = self.envr.arms\n",
    "        \n",
    "        if len(self.envr.arms) == 0:\n",
    "            self.envr.pullNewArm()\n",
    "            return\n",
    "        \n",
    "        k = len(self.envr.arms)\n",
    "        r = 0.01*(1/k)\n",
    "        fairness_alpha = 0.9\n",
    "        \n",
    "        fair_pull_set = []\n",
    "        for i in available_arms:\n",
    "            fair_count = math.floor(r * self.total_rounds) - i.num_pulled\n",
    "            if fair_count > fairness_alpha:\n",
    "                fair_pull_set.append((i, fair_count))\n",
    "        \n",
    "        if fair_pull_set:\n",
    "            max_smpl = max(fair_pull_set, key=lambda x: x[1])\n",
    "            \n",
    "        \n",
    "        \n",
    "        if uniform.rvs(size=1)[0] > 0.999:\n",
    "            self.envr.pullNewArm()\n",
    "        else:\n",
    "            upper_conf_bound = [None] * len(available_arms)\n",
    "            for i in range(len(available_arms)):\n",
    "                s_i = available_arms[i].num_rewards\n",
    "                n_i = available_arms[i].num_pulled\n",
    "                a = (s_i/(n_i))\n",
    "                b = (8 * math.log10(self.total_rounds+1))/(n_i)\n",
    "                r = (a + math.sqrt(b))\n",
    "\n",
    "                upper_conf_bound[i]=(r)\n",
    "            \n",
    "            max_smpl = max(upper_conf_bound)\n",
    "            max_i = upper_conf_bound.index(max_smpl)\n",
    "            self.envr.pull(self.envr.arms[max_i])"
   ]
  },
  {
   "cell_type": "code",
   "execution_count": 58,
   "id": "26fd2a24",
   "metadata": {},
   "outputs": [
    {
     "name": "stdout",
     "output_type": "stream",
     "text": [
      "cumul regret 661.8050067585064\n",
      "count cumul_regret_at_round 10000\n",
      "unseen regret 704.0716456821465\n",
      "count cumul_regret_at_round 10000\n"
     ]
    },
    {
     "data": {
      "image/png": "[encoded data removed]",
      "text/plain": [
       "<Figure size 432x288 with 1 Axes>"
      ]
     },
     "metadata": {
      "needs_background": "light"
     },
     "output_type": "display_data"
    }
   ],
   "source": [
    "quickTest(1, FairUCBAgent)"
   ]
  },
  {
   "cell_type": "code",
   "execution_count": 59,
   "id": "fa0e58cc",
   "metadata": {},
   "outputs": [],
   "source": [
    "class FairTSAgent(Agent):\n",
    "    def __init__(self, envr, rounds):\n",
    "        Agent.__init__(self, envr, rounds)\n",
    "        upper_conf_bound = []\n",
    "    \n",
    "    def playRound(self):\n",
    "        self.round += 1\n",
    "        available_arms = self.envr.arms\n",
    "        \n",
    "        if len(self.envr.arms) == 0:\n",
    "            self.envr.pullNewArm()\n",
    "            return\n",
    "        \n",
    "        k = len(self.envr.arms)\n",
    "        r = 0.01*(1/k)\n",
    "        fairness_alpha = 0.9\n",
    "        \n",
    "        fair_pull_set = []\n",
    "        for i in available_arms:\n",
    "            fair_count = math.floor(r * self.total_rounds) - i.num_pulled\n",
    "            if fair_count > fairness_alpha:\n",
    "                fair_pull_set.append((i, fair_count))\n",
    "        \n",
    "        if fair_pull_set:\n",
    "            max_smpl = max(fair_pull_set, key=lambda x: x[1])\n",
    "            \n",
    "        \n",
    "        \n",
    "        if uniform.rvs(size=1)[0] > 0.99:\n",
    "            self.envr.pullNewArm()\n",
    "        else:\n",
    "            thm_smpl = [None] * len(available_arms)\n",
    "            for i in range(len(available_arms)):\n",
    "                s_i = available_arms[i].num_rewards\n",
    "                n_i = available_arms[i].num_pulled\n",
    "                a = s_i + 1\n",
    "                b = n_i - s_i + 1\n",
    "                \n",
    "                #print(\"a,b\", a, b)\n",
    "                r = beta.rvs(a, b, size=1)\n",
    "                thm_smpl[i]=r[0]\n",
    "                \n",
    "                #upper_conf_bound[i]=(r)\n",
    "            \n",
    "            max_smpl = max(thm_smpl)\n",
    "            max_i = thm_smpl.index(max_smpl)\n",
    "            self.envr.pull(self.envr.arms[max_i])"
   ]
  },
  {
   "cell_type": "code",
   "execution_count": 60,
   "id": "0b2860e9",
   "metadata": {},
   "outputs": [
    {
     "name": "stdout",
     "output_type": "stream",
     "text": [
      "cumul regret 227.6437562211751\n",
      "count cumul_regret_at_round 10000\n",
      "unseen regret 234.28730845266873\n",
      "count cumul_regret_at_round 10000\n"
     ]
    },
    {
     "data": {
      "image/png": "[encoded data removed]",
      "text/plain": [
       "<Figure size 432x288 with 1 Axes>"
      ]
     },
     "metadata": {
      "needs_background": "light"
     },
     "output_type": "display_data"
    }
   ],
   "source": [
    "quickTest(1, FairTSAgent)"
   ]
  },
  {
   "cell_type": "code",
   "execution_count": null,
   "id": "8479181a",
   "metadata": {},
   "outputs": [],
   "source": []
  }
 ],
 "metadata": {
  "kernelspec": {
   "display_name": "Python 3",
   "language": "python",
   "name": "python3"
  },
  "language_info": {
   "codemirror_mode": {
    "name": "ipython",
    "version": 3
   },
   "file_extension": ".py",
   "mimetype": "text/x-python",
   "name": "python",
   "nbconvert_exporter": "python",
   "pygments_lexer": "ipython3",
   "version": "3.8.10"
  }
 },
 "nbformat": 4,
 "nbformat_minor": 5
}
