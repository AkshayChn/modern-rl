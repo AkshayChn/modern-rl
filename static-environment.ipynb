{
 "cells": [
  {
   "cell_type": "code",
   "execution_count": 375,
   "id": "58a63888",
   "metadata": {},
   "outputs": [],
   "source": [
    "from scipy.stats import bernoulli\n",
    "from scipy.stats import beta\n",
    "from scipy.stats import uniform \n",
    "import math"
   ]
  },
  {
   "cell_type": "code",
   "execution_count": 376,
   "id": "045f8e48",
   "metadata": {},
   "outputs": [],
   "source": [
    "class Arm:\n",
    "    \n",
    "    def __init__(self, q):\n",
    "        self.quality     = q\n",
    "        self.num_pulled  = 0\n",
    "        self.num_rewards = 0\n",
    "    \n",
    "    def pullthisarm(self):\n",
    "        reward = bernoulli.rvs(size=1,p=self.quality)[0]\n",
    "        self.num_pulled +=1\n",
    "        self.num_rewards += reward\n",
    "        return reward\n",
    "\n",
    "class Envi:\n",
    "    \n",
    "    def __init__(self):\n",
    "        self.arms = []\n",
    "        \n",
    "        self.best_arm = None\n",
    "        self.cumul_regret = 0\n",
    "        self.cumul_regret_at_round = []\n",
    "        \n",
    "        self.best_arm_unseen = None\n",
    "        self.cumul_regret_unseen = 0\n",
    "        self.cumul_regret_at_round_unseen = []\n",
    "    \n",
    "    def addArm(self, newArm):\n",
    "        self.arms.append(newArm)\n",
    "    \n",
    "    def getQual(self, arm):\n",
    "        return arm.quality\n",
    "    \n",
    "    def getBestArm(self):\n",
    "        return self.best_arm\n",
    "    \n",
    "    def getNewArm(self):\n",
    "        qual = uniform.rvs(size=1)[0]\n",
    "        retArm = Arm(qual)\n",
    "        return retArm\n",
    "    \n",
    "    #hyphothetical get new arm remains\n",
    "    \n",
    "    def pullNewArm(self):\n",
    "        #qual = uniform.rvs(size=1)[0]\n",
    "        #newArm = Arm(qual)\n",
    "        newArm = self.getNewArm()\n",
    "        self.addArm(newArm)\n",
    "        self.best_arm = max(self.arms, key=self.getQual)\n",
    "        self.best_arm_unseen = self.best_arm\n",
    "        self.pull(newArm)\n",
    "    \n",
    "    def pull(self, arm):\n",
    "        reward = arm.pullthisarm()\n",
    "        self.cumul_regret += (self.best_arm.quality - arm.quality)\n",
    "        self.cumul_regret_at_round.append(self.cumul_regret)\n",
    "        \n",
    "        self.best_arm_unseen = max(self.best_arm, self.getNewArm(), key=self.getQual)\n",
    "        self.cumul_regret_unseen += (self.best_arm_unseen.quality - arm.quality)\n",
    "        self.cumul_regret_at_round_unseen.append(self.cumul_regret_unseen)\n",
    "        return reward"
   ]
  },
  {
   "cell_type": "code",
   "execution_count": 377,
   "id": "c4f04a0a",
   "metadata": {
    "scrolled": true
   },
   "outputs": [
    {
     "name": "stdout",
     "output_type": "stream",
     "text": [
      "0.8757274201738318\n",
      "0.3763077707975653\n",
      "0.2364828647477083\n",
      "0.10261385324237582\n",
      "0.10940043840564084\n",
      "0.37935345079962013\n",
      "0.20841365303581427\n",
      "0.8974238463404084\n",
      "0.31169912056477433\n",
      "0.7296632771748713\n",
      "best is 0.8974238463404084\n",
      "cumul regret 6.7649204016130575\n",
      "num pulls [101, 1, 1, 1, 1, 1, 1, 1, 1, 1]\n",
      "num rewards [87, 1, 0, 0, 0, 0, 0, 1, 0, 1]\n",
      "count cumul_regret_at_round 110\n"
     ]
    }
   ],
   "source": [
    "## Testing, remove this later\n",
    "e = Envi()\n",
    "\n",
    "for i in range(10):\n",
    "    e.pullNewArm()\n",
    "\n",
    "for i in e.arms:\n",
    "    print(i.quality)\n",
    "\n",
    "print(\"best is\", e.getBestArm().quality)\n",
    "\n",
    "for i in range(100):\n",
    "    e.pull(e.arms[0])\n",
    "    \n",
    "print(\"cumul regret\", e.cumul_regret)\n",
    "print(\"num pulls\", list(map(lambda x: x.num_pulled, e.arms)))\n",
    "print(\"num rewards\", list(map(lambda x: x.num_rewards, e.arms)))\n",
    "print(\"count cumul_regret_at_round\", len(e.cumul_regret_at_round))"
   ]
  },
  {
   "cell_type": "markdown",
   "id": "1fda8e9f",
   "metadata": {},
   "source": [
    "# Testing"
   ]
  },
  {
   "cell_type": "code",
   "execution_count": 378,
   "id": "d25c86da",
   "metadata": {},
   "outputs": [],
   "source": [
    "DEFAULT_TEST_ROUNDS = 1000\n",
    "\n",
    "def quickTest(envr, agent, rounds=DEFAULT_TEST_ROUNDS):\n",
    "    e = Envi()\n",
    "    #rounds = 1000\n",
    "    ranAg = agent(e, rounds)\n",
    "    ranAg.playFull()\n",
    "\n",
    "    print(\"cumul regret\", e.cumul_regret)\n",
    "    #print(\"num pulls\", list(map(lambda x: x.num_pulled, e.arms)))\n",
    "    #print(\"num rewards\", list(map(lambda x: x.num_rewards, e.arms)))\n",
    "    #print(\"cumul_regret_at_round\", e.cumul_regret_at_round)\n",
    "    print(\"count cumul_regret_at_round\", len(e.cumul_regret_at_round))\n",
    "    \n",
    "    print(\"unseen regret\", e.cumul_regret_unseen)\n",
    "    #print(\"tot pulls\", sum(list(map(lambda x: x.num_pulled, e.arms))))\n",
    "    #print(\"num pulls\", list(map(lambda x: x.num_pulled, e.arms)))\n",
    "    #print(\"num rewards\", list(map(lambda x: x.num_rewards, e.arms)))\n",
    "    #print(\"cumul_regret_at_round\", e.cumul_regret_at_round)\n",
    "    print(\"count cumul_regret_at_round\", len(e.cumul_regret_at_round_unseen))\n",
    "    \n",
    "    import matplotlib.pyplot as plt\n",
    "    time_hor = range(rounds)\n",
    "    plt.plot(time_hor, e.cumul_regret_at_round)\n",
    "    plt.plot(time_hor, e.cumul_regret_at_round_unseen)"
   ]
  },
  {
   "cell_type": "markdown",
   "id": "e1cae758",
   "metadata": {},
   "source": [
    "# Agents"
   ]
  },
  {
   "cell_type": "code",
   "execution_count": 379,
   "id": "eef98e91",
   "metadata": {},
   "outputs": [],
   "source": [
    "# Agent abstract class\n",
    "class Agent:\n",
    "    #pulls random arm with p = 0.5 or explores new arm with p = 0.5\n",
    "    def __init__(self, envr, rounds):\n",
    "        self.envr = envr\n",
    "        self.total_rounds = rounds\n",
    "        self.round = 0\n",
    "        self.arm_pulled = []\n",
    "        self.rewards = []\n",
    "        self.total_reward = 0\n",
    "        \n",
    "    def playFull(self):\n",
    "        for i in range(self.total_rounds):\n",
    "            self.playRound()\n"
   ]
  },
  {
   "cell_type": "markdown",
   "id": "b8327fa0",
   "metadata": {},
   "source": [
    "## Random Agent"
   ]
  },
  {
   "cell_type": "code",
   "execution_count": 380,
   "id": "777b9f2a",
   "metadata": {},
   "outputs": [],
   "source": [
    "class RandomAgent(Agent):\n",
    "    \n",
    "    def playRound(self):\n",
    "        self.round += 1\n",
    "        available_arms = self.envr.arms\n",
    "        #print(available_arms)\n",
    "        ran = uniform.rvs(size=1)[0]\n",
    "        if len(self.envr.arms) == 0 or ran > 0.5:\n",
    "            self.envr.pullNewArm()\n",
    "        else:\n",
    "            ran2 = uniform.rvs(size=1)[0]\n",
    "            index = int(ran2*(len(self.envr.arms)))\n",
    "            #print(\"index\", index)\n",
    "            self.envr.pull(self.envr.arms[index])"
   ]
  },
  {
   "cell_type": "code",
   "execution_count": 381,
   "id": "b59ef1c1",
   "metadata": {
    "scrolled": true
   },
   "outputs": [
    {
     "name": "stdout",
     "output_type": "stream",
     "text": [
      "cumul regret 461.9476566269941\n",
      "count cumul_regret_at_round 1000\n",
      "unseen regret 462.7524768936668\n",
      "count cumul_regret_at_round 1000\n"
     ]
    },
    {
     "data": {
      "image/png": "[encoded data removed]",
      "text/plain": [
       "<Figure size 432x288 with 1 Axes>"
      ]
     },
     "metadata": {
      "needs_background": "light"
     },
     "output_type": "display_data"
    }
   ],
   "source": [
    "'''\n",
    "e = Envi()\n",
    "rounds = 1000\n",
    "ranAg = RandomAgent(e, rounds)\n",
    "ranAg.playFull()\n",
    "\n",
    "print(\"cumul regret\", e.cumul_regret)\n",
    "print(\"tot pulls\", sum(list(map(lambda x: x.num_pulled, e.arms))))\n",
    "#print(\"num pulls\", list(map(lambda x: x.num_pulled, e.arms)))\n",
    "#print(\"num rewards\", list(map(lambda x: x.num_rewards, e.arms)))\n",
    "#print(\"cumul_regret_at_round\", e.cumul_regret_at_round)\n",
    "print(\"count cumul_regret_at_round\", len(e.cumul_regret_at_round))\n",
    "\n",
    "import matplotlib.pyplot as plt\n",
    "time_hor = range(rounds)\n",
    "plt.plot(time_hor, e.cumul_regret_at_round)\n",
    "'''\n",
    "quickTest(1, RandomAgent)"
   ]
  },
  {
   "cell_type": "markdown",
   "id": "b44f211b",
   "metadata": {},
   "source": [
    "## Always-New Agent"
   ]
  },
  {
   "cell_type": "code",
   "execution_count": 382,
   "id": "48035ab2",
   "metadata": {},
   "outputs": [],
   "source": [
    "class AlwaysNewAgent(Agent):\n",
    "    \n",
    "    def playRound(self):\n",
    "        self.round += 1\n",
    "        self.envr.pullNewArm()"
   ]
  },
  {
   "cell_type": "code",
   "execution_count": 383,
   "id": "381f9393",
   "metadata": {},
   "outputs": [
    {
     "name": "stdout",
     "output_type": "stream",
     "text": [
      "cumul regret 483.3153946853772\n",
      "count cumul_regret_at_round 1000\n",
      "unseen regret 484.3408211321864\n",
      "count cumul_regret_at_round 1000\n"
     ]
    },
    {
     "data": {
      "image/png": "[encoded data removed]",
      "text/plain": [
       "<Figure size 432x288 with 1 Axes>"
      ]
     },
     "metadata": {
      "needs_background": "light"
     },
     "output_type": "display_data"
    }
   ],
   "source": [
    "quickTest(1, AlwaysNewAgent)"
   ]
  },
  {
   "cell_type": "markdown",
   "id": "56890a9f",
   "metadata": {},
   "source": [
    "## UCB Agent"
   ]
  },
  {
   "cell_type": "code",
   "execution_count": 384,
   "id": "b4533513",
   "metadata": {},
   "outputs": [],
   "source": [
    "class NaiveUCBAgent(Agent):\n",
    "    def __init__(self, envr, rounds):\n",
    "        Agent.__init__(self, envr, rounds)\n",
    "        upper_conf_bound = []\n",
    "    \n",
    "    def playRound(self):\n",
    "        self.round += 1\n",
    "        available_arms = self.envr.arms\n",
    "        \n",
    "        if len(self.envr.arms) == 0 or uniform.rvs(size=1)[0] > 0.999:\n",
    "            self.envr.pullNewArm()\n",
    "        else:\n",
    "            upper_conf_bound = [None] * len(available_arms)\n",
    "            for i in range(len(available_arms)):\n",
    "                s_i = available_arms[i].num_rewards\n",
    "                n_i = available_arms[i].num_pulled\n",
    "                a = (s_i/(n_i))\n",
    "                b = (8 * math.log10(self.total_rounds+1))/(n_i)\n",
    "                r = (a + math.sqrt(b))\n",
    "\n",
    "                upper_conf_bound[i]=(r)\n",
    "            \n",
    "            max_smpl = max(upper_conf_bound)\n",
    "            max_i = upper_conf_bound.index(max_smpl)\n",
    "            self.envr.pull(self.envr.arms[max_i])"
   ]
  },
  {
   "cell_type": "code",
   "execution_count": 385,
   "id": "48fd69cb",
   "metadata": {},
   "outputs": [
    {
     "name": "stdout",
     "output_type": "stream",
     "text": [
      "cumul regret 258.4714096626967\n",
      "count cumul_regret_at_round 10000\n",
      "unseen regret 669.8390719969543\n",
      "num pulls [2166, 862, 50, 772, 270, 5537, 58, 86, 129, 70]\n",
      "count cumul_regret_at_round 10000\n"
     ]
    },
    {
     "data": {
      "text/plain": [
       "[<matplotlib.lines.Line2D at 0x7fa2df88e4c0>]"
      ]
     },
     "execution_count": 385,
     "metadata": {},
     "output_type": "execute_result"
    },
    {
     "data": {
      "image/png": "[encoded data removed]",
      "text/plain": [
       "<Figure size 432x288 with 1 Axes>"
      ]
     },
     "metadata": {
      "needs_background": "light"
     },
     "output_type": "display_data"
    }
   ],
   "source": [
    "#quickTest(1, NaiveUCBAgent, rounds=10000)\n",
    "e = Envi()\n",
    "rounds = 10000\n",
    "ranAg = NaiveUCBAgent(e, rounds)\n",
    "ranAg.playFull()\n",
    "\n",
    "print(\"cumul regret\", e.cumul_regret)\n",
    "#print(\"num pulls\", list(map(lambda x: x.num_pulled, e.arms)))\n",
    "#print(\"num rewards\", list(map(lambda x: x.num_rewards, e.arms)))\n",
    "#print(\"cumul_regret_at_round\", e.cumul_regret_at_round)\n",
    "print(\"count cumul_regret_at_round\", len(e.cumul_regret_at_round))\n",
    "\n",
    "print(\"unseen regret\", e.cumul_regret_unseen)\n",
    "#print(\"tot pulls\", sum(list(map(lambda x: x.num_pulled, e.arms))))\n",
    "print(\"num pulls\", list(map(lambda x: x.num_pulled, e.arms)))\n",
    "#print(\"num rewards\", list(map(lambda x: x.num_rewards, e.arms)))\n",
    "#print(\"cumul_regret_at_round\", e.cumul_regret_at_round)\n",
    "print(\"count cumul_regret_at_round\", len(e.cumul_regret_at_round_unseen))\n",
    "\n",
    "import matplotlib.pyplot as plt\n",
    "time_hor = range(rounds)\n",
    "plt.plot(time_hor, e.cumul_regret_at_round)\n",
    "plt.plot(time_hor, e.cumul_regret_at_round_unseen)"
   ]
  },
  {
   "cell_type": "code",
   "execution_count": 400,
   "id": "230f5f1f",
   "metadata": {},
   "outputs": [],
   "source": [
    "class NaiveTSAgent(Agent):\n",
    "    def __init__(self, envr, rounds):\n",
    "        Agent.__init__(self, envr, rounds)\n",
    "        upper_conf_bound = []\n",
    "    \n",
    "    def playRound(self):\n",
    "        self.round += 1\n",
    "        available_arms = self.envr.arms\n",
    "        \n",
    "        if len(self.envr.arms) == 0 or uniform.rvs(size=1)[0] > 0.99:\n",
    "            self.envr.pullNewArm()\n",
    "        else:\n",
    "            thm_smpl = [None] * len(available_arms)\n",
    "            for i in range(len(available_arms)):\n",
    "                s_i = available_arms[i].num_rewards\n",
    "                n_i = available_arms[i].num_pulled\n",
    "                a = s_i + 1\n",
    "                b = n_i - s_i + 1\n",
    "                \n",
    "                #print(\"a,b\", a, b)\n",
    "                r = beta.rvs(a, b, size=1)\n",
    "                thm_smpl[i]=r[0]\n",
    "                \n",
    "                #upper_conf_bound[i]=(r)\n",
    "            \n",
    "            max_smpl = max(thm_smpl)\n",
    "            max_i = thm_smpl.index(max_smpl)\n",
    "            self.envr.pull(self.envr.arms[max_i])"
   ]
  },
  {
   "cell_type": "code",
   "execution_count": 403,
   "id": "fb32b3e8",
   "metadata": {},
   "outputs": [
    {
     "name": "stdout",
     "output_type": "stream",
     "text": [
      "cumul regret 220.42744946832912\n",
      "count cumul_regret_at_round 10000\n",
      "unseen regret 293.54922025058505\n",
      "num pulls [501, 259, 139, 19, 4, 5, 9, 805, 15, 22, 3, 8, 7, 66, 2, 363, 5, 5, 14, 262, 2, 5502, 1, 1, 3, 49, 1048, 54, 1, 2, 55, 42, 4, 3, 1, 2, 1, 1, 9, 1, 6, 1, 2, 3, 1, 1, 3, 82, 1, 2, 1, 1, 4, 6, 12, 1, 2, 2, 4, 1, 1, 6, 1, 2, 2, 5, 1, 1, 1, 2, 3, 2, 2, 2, 3, 3, 1, 4, 7, 5, 1, 1, 6, 135, 1, 2, 13, 7, 3, 9, 245, 2, 3, 2, 1, 1, 5, 3, 1, 1, 1, 38, 1, 1, 1, 1, 1, 7, 1, 3, 9, 3, 1, 2, 1, 1, 1]\n",
      "count cumul_regret_at_round 10000\n"
     ]
    },
    {
     "data": {
      "image/png": "[encoded data removed]",
      "text/plain": [
       "<Figure size 432x288 with 1 Axes>"
      ]
     },
     "metadata": {
      "needs_background": "light"
     },
     "output_type": "display_data"
    }
   ],
   "source": [
    "e = Envi()\n",
    "rounds = 10000\n",
    "ranAg = NaiveTSAgent(e, rounds)\n",
    "ranAg.playFull()\n",
    "\n",
    "print(\"cumul regret\", e.cumul_regret)\n",
    "#print(\"num pulls\", list(map(lambda x: x.num_pulled, e.arms)))\n",
    "#print(\"num rewards\", list(map(lambda x: x.num_rewards, e.arms)))\n",
    "#print(\"cumul_regret_at_round\", e.cumul_regret_at_round)\n",
    "print(\"count cumul_regret_at_round\", len(e.cumul_regret_at_round))\n",
    "\n",
    "print(\"unseen regret\", e.cumul_regret_unseen)\n",
    "#print(\"tot pulls\", sum(list(map(lambda x: x.num_pulled, e.arms))))\n",
    "print(\"num pulls\", list(map(lambda x: x.num_pulled, e.arms)))\n",
    "#print(\"num rewards\", list(map(lambda x: x.num_rewards, e.arms)))\n",
    "#print(\"cumul_regret_at_round\", e.cumul_regret_at_round)\n",
    "print(\"count cumul_regret_at_round\", len(e.cumul_regret_at_round_unseen))\n",
    "\n",
    "import matplotlib.pyplot as plt\n",
    "time_hor = range(rounds)\n",
    "plt.plot(time_hor, e.cumul_regret_at_round)\n",
    "plt.plot(time_hor, e.cumul_regret_at_round_unseen)\n",
    "plt.show()"
   ]
  },
  {
   "cell_type": "code",
   "execution_count": null,
   "id": "9f6e1383",
   "metadata": {},
   "outputs": [],
   "source": []
  }
 ],
 "metadata": {
  "kernelspec": {
   "display_name": "Python 3",
   "language": "python",
   "name": "python3"
  },
  "language_info": {
   "codemirror_mode": {
    "name": "ipython",
    "version": 3
   },
   "file_extension": ".py",
   "mimetype": "text/x-python",
   "name": "python",
   "nbconvert_exporter": "python",
   "pygments_lexer": "ipython3",
   "version": "3.8.10"
  }
 },
 "nbformat": 4,
 "nbformat_minor": 5
}
