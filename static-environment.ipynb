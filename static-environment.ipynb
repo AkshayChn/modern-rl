{
 "cells": [
  {
   "cell_type": "code",
   "execution_count": 375,
   "id": "a20913c7",
   "metadata": {},
   "outputs": [],
   "source": [
    "from scipy.stats import bernoulli\n",
    "from scipy.stats import beta\n",
    "from scipy.stats import uniform \n",
    "import math"
   ]
  },
  {
   "cell_type": "code",
   "execution_count": 376,
   "id": "2df66b50",
   "metadata": {},
   "outputs": [],
   "source": [
    "class Arm:\n",
    "    \n",
    "    def __init__(self, q):\n",
    "        self.quality     = q\n",
    "        self.num_pulled  = 0\n",
    "        self.num_rewards = 0\n",
    "    \n",
    "    def pullthisarm(self):\n",
    "        reward = bernoulli.rvs(size=1,p=self.quality)[0]\n",
    "        self.num_pulled +=1\n",
    "        self.num_rewards += reward\n",
    "        return reward\n",
    "\n",
    "class Envi:\n",
    "    \n",
    "    def __init__(self):\n",
    "        self.arms = []\n",
    "        \n",
    "        self.best_arm = None\n",
    "        self.cumul_regret = 0\n",
    "        self.cumul_regret_at_round = []\n",
    "        \n",
    "        self.best_arm_unseen = None\n",
    "        self.cumul_regret_unseen = 0\n",
    "        self.cumul_regret_at_round_unseen = []\n",
    "    \n",
    "    def addArm(self, newArm):\n",
    "        self.arms.append(newArm)\n",
    "    \n",
    "    def getQual(self, arm):\n",
    "        return arm.quality\n",
    "    \n",
    "    def getBestArm(self):\n",
    "        return self.best_arm\n",
    "    \n",
    "    def getNewArm(self):\n",
    "        qual = uniform.rvs(size=1)[0]\n",
    "        retArm = Arm(qual)\n",
    "        return retArm\n",
    "    \n",
    "    #hyphothetical get new arm remains\n",
    "    \n",
    "    def pullNewArm(self):\n",
    "        #qual = uniform.rvs(size=1)[0]\n",
    "        #newArm = Arm(qual)\n",
    "        newArm = self.getNewArm()\n",
    "        self.addArm(newArm)\n",
    "        self.best_arm = max(self.arms, key=self.getQual)\n",
    "        self.best_arm_unseen = self.best_arm\n",
    "        self.pull(newArm)\n",
    "    \n",
    "    def pull(self, arm):\n",
    "        reward = arm.pullthisarm()\n",
    "        self.cumul_regret += (self.best_arm.quality - arm.quality)\n",
    "        self.cumul_regret_at_round.append(self.cumul_regret)\n",
    "        \n",
    "        self.best_arm_unseen = max(self.best_arm, self.getNewArm(), key=self.getQual)\n",
    "        self.cumul_regret_unseen += (self.best_arm_unseen.quality - arm.quality)\n",
    "        self.cumul_regret_at_round_unseen.append(self.cumul_regret_unseen)\n",
    "        return reward"
   ]
  },
  {
   "cell_type": "code",
   "execution_count": 377,
   "id": "6c930e97",
   "metadata": {
    "scrolled": true
   },
   "outputs": [
    {
     "name": "stdout",
     "output_type": "stream",
     "text": [
      "0.8757274201738318\n",
      "0.3763077707975653\n",
      "0.2364828647477083\n",
      "0.10261385324237582\n",
      "0.10940043840564084\n",
      "0.37935345079962013\n",
      "0.20841365303581427\n",
      "0.8974238463404084\n",
      "0.31169912056477433\n",
      "0.7296632771748713\n",
      "best is 0.8974238463404084\n",
      "cumul regret 6.7649204016130575\n",
      "num pulls [101, 1, 1, 1, 1, 1, 1, 1, 1, 1]\n",
      "num rewards [87, 1, 0, 0, 0, 0, 0, 1, 0, 1]\n",
      "count cumul_regret_at_round 110\n"
     ]
    }
   ],
   "source": [
    "## Testing, remove this later\n",
    "e = Envi()\n",
    "\n",
    "for i in range(10):\n",
    "    e.pullNewArm()\n",
    "\n",
    "for i in e.arms:\n",
    "    print(i.quality)\n",
    "\n",
    "print(\"best is\", e.getBestArm().quality)\n",
    "\n",
    "for i in range(100):\n",
    "    e.pull(e.arms[0])\n",
    "    \n",
    "print(\"cumul regret\", e.cumul_regret)\n",
    "print(\"num pulls\", list(map(lambda x: x.num_pulled, e.arms)))\n",
    "print(\"num rewards\", list(map(lambda x: x.num_rewards, e.arms)))\n",
    "print(\"count cumul_regret_at_round\", len(e.cumul_regret_at_round))"
   ]
  },
  {
   "cell_type": "markdown",
   "id": "69ef8006",
   "metadata": {},
   "source": [
    "# Testing"
   ]
  },
  {
   "cell_type": "code",
   "execution_count": 378,
   "id": "ff9db0a4",
   "metadata": {},
   "outputs": [],
   "source": [
    "DEFAULT_TEST_ROUNDS = 1000\n",
    "\n",
    "def quickTest(envr, agent, rounds=DEFAULT_TEST_ROUNDS):\n",
    "    e = Envi()\n",
    "    #rounds = 1000\n",
    "    ranAg = agent(e, rounds)\n",
    "    ranAg.playFull()\n",
    "\n",
    "    print(\"cumul regret\", e.cumul_regret)\n",
    "    #print(\"num pulls\", list(map(lambda x: x.num_pulled, e.arms)))\n",
    "    #print(\"num rewards\", list(map(lambda x: x.num_rewards, e.arms)))\n",
    "    #print(\"cumul_regret_at_round\", e.cumul_regret_at_round)\n",
    "    print(\"count cumul_regret_at_round\", len(e.cumul_regret_at_round))\n",
    "    \n",
    "    print(\"unseen regret\", e.cumul_regret_unseen)\n",
    "    #print(\"tot pulls\", sum(list(map(lambda x: x.num_pulled, e.arms))))\n",
    "    #print(\"num pulls\", list(map(lambda x: x.num_pulled, e.arms)))\n",
    "    #print(\"num rewards\", list(map(lambda x: x.num_rewards, e.arms)))\n",
    "    #print(\"cumul_regret_at_round\", e.cumul_regret_at_round)\n",
    "    print(\"count cumul_regret_at_round\", len(e.cumul_regret_at_round_unseen))\n",
    "    \n",
    "    import matplotlib.pyplot as plt\n",
    "    time_hor = range(rounds)\n",
    "    plt.plot(time_hor, e.cumul_regret_at_round)\n",
    "    plt.plot(time_hor, e.cumul_regret_at_round_unseen)"
   ]
  },
  {
   "cell_type": "markdown",
   "id": "f96d2960",
   "metadata": {},
   "source": [
    "# Agents"
   ]
  },
  {
   "cell_type": "code",
   "execution_count": 379,
   "id": "a5f6b360",
   "metadata": {},
   "outputs": [],
   "source": [
    "# Agent abstract class\n",
    "class Agent:\n",
    "    #pulls random arm with p = 0.5 or explores new arm with p = 0.5\n",
    "    def __init__(self, envr, rounds):\n",
    "        self.envr = envr\n",
    "        self.total_rounds = rounds\n",
    "        self.round = 0\n",
    "        self.arm_pulled = []\n",
    "        self.rewards = []\n",
    "        self.total_reward = 0\n",
    "        \n",
    "    def playFull(self):\n",
    "        for i in range(self.total_rounds):\n",
    "            self.playRound()\n"
   ]
  },
  {
   "cell_type": "markdown",
   "id": "06fc0df9",
   "metadata": {},
   "source": [
    "## Random Agent"
   ]
  },
  {
   "cell_type": "code",
   "execution_count": 380,
   "id": "802ed4a1",
   "metadata": {},
   "outputs": [],
   "source": [
    "class RandomAgent(Agent):\n",
    "    \n",
    "    def playRound(self):\n",
    "        self.round += 1\n",
    "        available_arms = self.envr.arms\n",
    "        #print(available_arms)\n",
    "        ran = uniform.rvs(size=1)[0]\n",
    "        if len(self.envr.arms) == 0 or ran > 0.5:\n",
    "            self.envr.pullNewArm()\n",
    "        else:\n",
    "            ran2 = uniform.rvs(size=1)[0]\n",
    "            index = int(ran2*(len(self.envr.arms)))\n",
    "            #print(\"index\", index)\n",
    "            self.envr.pull(self.envr.arms[index])"
   ]
  },
  {
   "cell_type": "code",
   "execution_count": 381,
   "id": "1d569077",
   "metadata": {
    "scrolled": true
   },
   "outputs": [
    {
     "name": "stdout",
     "output_type": "stream",
     "text": [
      "cumul regret 461.9476566269941\n",
      "count cumul_regret_at_round 1000\n",
      "unseen regret 462.7524768936668\n",
      "count cumul_regret_at_round 1000\n"
     ]
    },
    {
     "data": {
      "image/png": "[encoded data removed]",
      "text/plain": [
       "<Figure size 432x288 with 1 Axes>"
      ]
     },
     "metadata": {
      "needs_background": "light"
     },
     "output_type": "display_data"
    }
   ],
   "source": [
    "'''\n",
    "e = Envi()\n",
    "rounds = 1000\n",
    "ranAg = RandomAgent(e, rounds)\n",
    "ranAg.playFull()\n",
    "\n",
    "print(\"cumul regret\", e.cumul_regret)\n",
    "print(\"tot pulls\", sum(list(map(lambda x: x.num_pulled, e.arms))))\n",
    "#print(\"num pulls\", list(map(lambda x: x.num_pulled, e.arms)))\n",
    "#print(\"num rewards\", list(map(lambda x: x.num_rewards, e.arms)))\n",
    "#print(\"cumul_regret_at_round\", e.cumul_regret_at_round)\n",
    "print(\"count cumul_regret_at_round\", len(e.cumul_regret_at_round))\n",
    "\n",
    "import matplotlib.pyplot as plt\n",
    "time_hor = range(rounds)\n",
    "plt.plot(time_hor, e.cumul_regret_at_round)\n",
    "'''\n",
    "quickTest(1, RandomAgent)"
   ]
  },
  {
   "cell_type": "markdown",
   "id": "e3c9be24",
   "metadata": {},
   "source": [
    "## Always-New Agent"
   ]
  },
  {
   "cell_type": "code",
   "execution_count": 382,
   "id": "88cd74a5",
   "metadata": {},
   "outputs": [],
   "source": [
    "class AlwaysNewAgent(Agent):\n",
    "    \n",
    "    def playRound(self):\n",
    "        self.round += 1\n",
    "        self.envr.pullNewArm()"
   ]
  },
  {
   "cell_type": "code",
   "execution_count": 383,
   "id": "fe96677f",
   "metadata": {},
   "outputs": [
    {
     "name": "stdout",
     "output_type": "stream",
     "text": [
      "cumul regret 483.3153946853772\n",
      "count cumul_regret_at_round 1000\n",
      "unseen regret 484.3408211321864\n",
      "count cumul_regret_at_round 1000\n"
     ]
    },
    {
     "data": {
      "image/png": "[encoded data removed]",
      "text/plain": [
       "<Figure size 432x288 with 1 Axes>"
      ]
     },
     "metadata": {
      "needs_background": "light"
     },
     "output_type": "display_data"
    }
   ],
   "source": [
    "quickTest(1, AlwaysNewAgent)"
   ]
  },
  {
   "cell_type": "markdown",
   "id": "ee5a3f68",
   "metadata": {},
   "source": [
    "## UCB Agent"
   ]
  },
  {
   "cell_type": "code",
   "execution_count": 384,
   "id": "2a8d7166",
   "metadata": {},
   "outputs": [],
   "source": [
    "class NaiveUCBAgent(Agent):\n",
    "    def __init__(self, envr, rounds):\n",
    "        Agent.__init__(self, envr, rounds)\n",
    "        upper_conf_bound = []\n",
    "    \n",
    "    def playRound(self):\n",
    "        self.round += 1\n",
    "        available_arms = self.envr.arms\n",
    "        \n",
    "        if len(self.envr.arms) == 0 or uniform.rvs(size=1)[0] > 0.999:\n",
    "            self.envr.pullNewArm()\n",
    "        else:\n",
    "            upper_conf_bound = [None] * len(available_arms)\n",
    "            for i in range(len(available_arms)):\n",
    "                s_i = available_arms[i].num_rewards\n",
    "                n_i = available_arms[i].num_pulled\n",
    "                a = (s_i/(n_i))\n",
    "                b = (8 * math.log10(self.total_rounds+1))/(n_i)\n",
    "                r = (a + math.sqrt(b))\n",
    "\n",
    "                upper_conf_bound[i]=(r)\n",
    "            \n",
    "            max_smpl = max(upper_conf_bound)\n",
    "            max_i = upper_conf_bound.index(max_smpl)\n",
    "            self.envr.pull(self.envr.arms[max_i])"
   ]
  },
  {
   "cell_type": "code",
   "execution_count": 385,
   "id": "c557c2ba",
   "metadata": {},
   "outputs": [
    {
     "name": "stdout",
     "output_type": "stream",
     "text": [
      "cumul regret 258.4714096626967\n",
      "count cumul_regret_at_round 10000\n",
      "unseen regret 669.8390719969543\n",
      "num pulls [2166, 862, 50, 772, 270, 5537, 58, 86, 129, 70]\n",
      "count cumul_regret_at_round 10000\n"
     ]
    },
    {
     "data": {
      "text/plain": [
       "[<matplotlib.lines.Line2D at 0x7fa2df88e4c0>]"
      ]
     },
     "execution_count": 385,
     "metadata": {},
     "output_type": "execute_result"
    },
    {
     "data": {
      "image/png": "[encoded data removed]",
      "text/plain": [
       "<Figure size 432x288 with 1 Axes>"
      ]
     },
     "metadata": {
      "needs_background": "light"
     },
     "output_type": "display_data"
    }
   ],
   "source": [
    "#quickTest(1, NaiveUCBAgent, rounds=10000)\n",
    "e = Envi()\n",
    "rounds = 10000\n",
    "ranAg = NaiveUCBAgent(e, rounds)\n",
    "ranAg.playFull()\n",
    "\n",
    "print(\"cumul regret\", e.cumul_regret)\n",
    "#print(\"num pulls\", list(map(lambda x: x.num_pulled, e.arms)))\n",
    "#print(\"num rewards\", list(map(lambda x: x.num_rewards, e.arms)))\n",
    "#print(\"cumul_regret_at_round\", e.cumul_regret_at_round)\n",
    "print(\"count cumul_regret_at_round\", len(e.cumul_regret_at_round))\n",
    "\n",
    "print(\"unseen regret\", e.cumul_regret_unseen)\n",
    "#print(\"tot pulls\", sum(list(map(lambda x: x.num_pulled, e.arms))))\n",
    "print(\"num pulls\", list(map(lambda x: x.num_pulled, e.arms)))\n",
    "#print(\"num rewards\", list(map(lambda x: x.num_rewards, e.arms)))\n",
    "#print(\"cumul_regret_at_round\", e.cumul_regret_at_round)\n",
    "print(\"count cumul_regret_at_round\", len(e.cumul_regret_at_round_unseen))\n",
    "\n",
    "import matplotlib.pyplot as plt\n",
    "time_hor = range(rounds)\n",
    "plt.plot(time_hor, e.cumul_regret_at_round)\n",
    "plt.plot(time_hor, e.cumul_regret_at_round_unseen)"
   ]
  },
  {
   "cell_type": "markdown",
   "id": "7274ec7e",
   "metadata": {},
   "source": [
    "## Naive Thompson Sampling Agent"
   ]
  },
  {
   "cell_type": "code",
   "execution_count": 400,
   "id": "1eebedb5",
   "metadata": {},
   "outputs": [],
   "source": [
    "class NaiveTSAgent(Agent):\n",
    "    def __init__(self, envr, rounds):\n",
    "        Agent.__init__(self, envr, rounds)\n",
    "        upper_conf_bound = []\n",
    "    \n",
    "    def playRound(self):\n",
    "        self.round += 1\n",
    "        available_arms = self.envr.arms\n",
    "        \n",
    "        if len(self.envr.arms) == 0 or uniform.rvs(size=1)[0] > 0.99:\n",
    "            self.envr.pullNewArm()\n",
    "        else:\n",
    "            thm_smpl = [None] * len(available_arms)\n",
    "            for i in range(len(available_arms)):\n",
    "                s_i = available_arms[i].num_rewards\n",
    "                n_i = available_arms[i].num_pulled\n",
    "                a = s_i + 1\n",
    "                b = n_i - s_i + 1\n",
    "                \n",
    "                #print(\"a,b\", a, b)\n",
    "                r = beta.rvs(a, b, size=1)\n",
    "                thm_smpl[i]=r[0]\n",
    "                \n",
    "                #upper_conf_bound[i]=(r)\n",
    "            \n",
    "            max_smpl = max(thm_smpl)\n",
    "            max_i = thm_smpl.index(max_smpl)\n",
    "            self.envr.pull(self.envr.arms[max_i])"
   ]
  },
  {
   "cell_type": "code",
   "execution_count": 406,
   "id": "c5337845",
   "metadata": {},
   "outputs": [
    {
     "name": "stdout",
     "output_type": "stream",
     "text": [
      "cumul regret 176.50455796486415\n",
      "count cumul_regret_at_round 10000\n",
      "unseen regret 177.06182762603675\n",
      "num pulls [3189, 3, 2, 2, 2, 1, 1, 6, 9, 2, 1912, 7, 2, 2, 1, 4, 76, 3, 2, 1, 3, 4, 2, 2, 1, 5, 9, 2, 6, 1, 2, 1, 19, 1, 4, 3, 2, 1, 1, 3960, 7, 1, 3, 4, 3, 2, 3, 3, 1, 2, 6, 3, 3, 6, 2, 12, 4, 3, 2, 1, 1, 1, 34, 1, 35, 6, 2, 1, 1, 7, 2, 1, 24, 1, 1, 24, 3, 3, 1, 4, 3, 1, 5, 3, 2, 1, 5, 1, 1, 1, 464, 2, 1, 2, 1, 4, 1, 1, 2, 2, 1, 2, 2, 2, 4, 3, 1, 2]\n",
      "count cumul_regret_at_round 10000\n"
     ]
    },
    {
     "data": {
      "image/png": "[encoded data removed]",
      "text/plain": [
       "<Figure size 432x288 with 1 Axes>"
      ]
     },
     "metadata": {
      "needs_background": "light"
     },
     "output_type": "display_data"
    }
   ],
   "source": [
    "e = Envi()\n",
    "rounds = 10000\n",
    "ranAg = NaiveTSAgent(e, rounds)\n",
    "ranAg.playFull()\n",
    "\n",
    "print(\"cumul regret\", e.cumul_regret)\n",
    "#print(\"num pulls\", list(map(lambda x: x.num_pulled, e.arms)))\n",
    "#print(\"num rewards\", list(map(lambda x: x.num_rewards, e.arms)))\n",
    "#print(\"cumul_regret_at_round\", e.cumul_regret_at_round)\n",
    "print(\"count cumul_regret_at_round\", len(e.cumul_regret_at_round))\n",
    "\n",
    "print(\"unseen regret\", e.cumul_regret_unseen)\n",
    "#print(\"tot pulls\", sum(list(map(lambda x: x.num_pulled, e.arms))))\n",
    "print(\"num pulls\", list(map(lambda x: x.num_pulled, e.arms)))\n",
    "#print(\"num rewards\", list(map(lambda x: x.num_rewards, e.arms)))\n",
    "#print(\"cumul_regret_at_round\", e.cumul_regret_at_round)\n",
    "print(\"count cumul_regret_at_round\", len(e.cumul_regret_at_round_unseen))\n",
    "\n",
    "import matplotlib.pyplot as plt\n",
    "time_hor = range(rounds)\n",
    "plt.plot(time_hor, e.cumul_regret_at_round)\n",
    "plt.plot(time_hor, e.cumul_regret_at_round_unseen)\n",
    "plt.show()"
   ]
  },
  {
   "cell_type": "markdown",
   "id": "b7955d9c",
   "metadata": {},
   "source": [
    "## Fair UCB"
   ]
  },
  {
   "cell_type": "code",
   "execution_count": 412,
   "id": "c082c3f6",
   "metadata": {},
   "outputs": [],
   "source": [
    "class FairUCBAgent(Agent):\n",
    "    def __init__(self, envr, rounds):\n",
    "        Agent.__init__(self, envr, rounds)\n",
    "        upper_conf_bound = []\n",
    "    \n",
    "    def playRound(self):\n",
    "        self.round += 1\n",
    "        available_arms = self.envr.arms\n",
    "        \n",
    "        if len(self.envr.arms) == 0:\n",
    "            self.envr.pullNewArm()\n",
    "        \n",
    "        k = len(self.envr.arms)\n",
    "        r = 0.1*(1/k)\n",
    "        fairness_alpha = 0.1\n",
    "        \n",
    "        fair_pull_set = []\n",
    "        for i in available_arms:\n",
    "            fair_count = math.floor(r * self.total_rounds) - i.num_pulled\n",
    "            if fair_count > fairness_alpha:\n",
    "                fair_pull_set.append((i, fair_count))\n",
    "        \n",
    "        if fair_pull_set:\n",
    "            max_smpl = max(fair_pull_set, key=lambda x: x[1])\n",
    "            # max_smpl = max(list(map(lambda x: x[1], fair_pull_set)))\n",
    "            # max_i = upper_conf_bound.index(max_smpl)\n",
    "        \n",
    "        \n",
    "        if uniform.rvs(size=1)[0] > 0.999:\n",
    "            self.envr.pullNewArm()\n",
    "        else:\n",
    "            upper_conf_bound = [None] * len(available_arms)\n",
    "            for i in range(len(available_arms)):\n",
    "                s_i = available_arms[i].num_rewards\n",
    "                n_i = available_arms[i].num_pulled\n",
    "                a = (s_i/(n_i))\n",
    "                b = (8 * math.log10(self.total_rounds+1))/(n_i)\n",
    "                r = (a + math.sqrt(b))\n",
    "\n",
    "                upper_conf_bound[i]=(r)\n",
    "            \n",
    "            max_smpl = max(upper_conf_bound)\n",
    "            max_i = upper_conf_bound.index(max_smpl)\n",
    "            self.envr.pull(self.envr.arms[max_i])"
   ]
  },
  {
   "cell_type": "code",
   "execution_count": 409,
   "id": "41662c22",
   "metadata": {},
   "outputs": [
    {
     "ename": "UnboundLocalError",
     "evalue": "local variable 'upper_conf_bound' referenced before assignment",
     "output_type": "error",
     "traceback": [
      "\u001b[0;31m---------------------------------------------------------------------------\u001b[0m",
      "\u001b[0;31mUnboundLocalError\u001b[0m                         Traceback (most recent call last)",
      "\u001b[0;32m<ipython-input-409-ce586f0790cc>\u001b[0m in \u001b[0;36m<module>\u001b[0;34m\u001b[0m\n\u001b[0;32m----> 1\u001b[0;31m \u001b[0mquickTest\u001b[0m\u001b[0;34m(\u001b[0m\u001b[0;36m1\u001b[0m\u001b[0;34m,\u001b[0m \u001b[0mFairUCBAgent\u001b[0m\u001b[0;34m,\u001b[0m \u001b[0mrounds\u001b[0m\u001b[0;34m=\u001b[0m\u001b[0;36m1000\u001b[0m\u001b[0;34m)\u001b[0m\u001b[0;34m\u001b[0m\u001b[0;34m\u001b[0m\u001b[0m\n\u001b[0m",
      "\u001b[0;32m<ipython-input-378-6a9f8e87358f>\u001b[0m in \u001b[0;36mquickTest\u001b[0;34m(envr, agent, rounds)\u001b[0m\n\u001b[1;32m      5\u001b[0m     \u001b[0;31m#rounds = 1000\u001b[0m\u001b[0;34m\u001b[0m\u001b[0;34m\u001b[0m\u001b[0;34m\u001b[0m\u001b[0m\n\u001b[1;32m      6\u001b[0m     \u001b[0mranAg\u001b[0m \u001b[0;34m=\u001b[0m \u001b[0magent\u001b[0m\u001b[0;34m(\u001b[0m\u001b[0me\u001b[0m\u001b[0;34m,\u001b[0m \u001b[0mrounds\u001b[0m\u001b[0;34m)\u001b[0m\u001b[0;34m\u001b[0m\u001b[0;34m\u001b[0m\u001b[0m\n\u001b[0;32m----> 7\u001b[0;31m     \u001b[0mranAg\u001b[0m\u001b[0;34m.\u001b[0m\u001b[0mplayFull\u001b[0m\u001b[0;34m(\u001b[0m\u001b[0;34m)\u001b[0m\u001b[0;34m\u001b[0m\u001b[0;34m\u001b[0m\u001b[0m\n\u001b[0m\u001b[1;32m      8\u001b[0m \u001b[0;34m\u001b[0m\u001b[0m\n\u001b[1;32m      9\u001b[0m     \u001b[0mprint\u001b[0m\u001b[0;34m(\u001b[0m\u001b[0;34m\"cumul regret\"\u001b[0m\u001b[0;34m,\u001b[0m \u001b[0me\u001b[0m\u001b[0;34m.\u001b[0m\u001b[0mcumul_regret\u001b[0m\u001b[0;34m)\u001b[0m\u001b[0;34m\u001b[0m\u001b[0;34m\u001b[0m\u001b[0m\n",
      "\u001b[0;32m<ipython-input-379-38e728abcbc5>\u001b[0m in \u001b[0;36mplayFull\u001b[0;34m(self)\u001b[0m\n\u001b[1;32m     12\u001b[0m     \u001b[0;32mdef\u001b[0m \u001b[0mplayFull\u001b[0m\u001b[0;34m(\u001b[0m\u001b[0mself\u001b[0m\u001b[0;34m)\u001b[0m\u001b[0;34m:\u001b[0m\u001b[0;34m\u001b[0m\u001b[0;34m\u001b[0m\u001b[0m\n\u001b[1;32m     13\u001b[0m         \u001b[0;32mfor\u001b[0m \u001b[0mi\u001b[0m \u001b[0;32min\u001b[0m \u001b[0mrange\u001b[0m\u001b[0;34m(\u001b[0m\u001b[0mself\u001b[0m\u001b[0;34m.\u001b[0m\u001b[0mtotal_rounds\u001b[0m\u001b[0;34m)\u001b[0m\u001b[0;34m:\u001b[0m\u001b[0;34m\u001b[0m\u001b[0;34m\u001b[0m\u001b[0m\n\u001b[0;32m---> 14\u001b[0;31m             \u001b[0mself\u001b[0m\u001b[0;34m.\u001b[0m\u001b[0mplayRound\u001b[0m\u001b[0;34m(\u001b[0m\u001b[0;34m)\u001b[0m\u001b[0;34m\u001b[0m\u001b[0;34m\u001b[0m\u001b[0m\n\u001b[0m",
      "\u001b[0;32m<ipython-input-407-f2cf4eaca85d>\u001b[0m in \u001b[0;36mplayRound\u001b[0;34m(self)\u001b[0m\n\u001b[1;32m     23\u001b[0m         \u001b[0;32mif\u001b[0m \u001b[0mfair_pull_set\u001b[0m\u001b[0;34m:\u001b[0m\u001b[0;34m\u001b[0m\u001b[0;34m\u001b[0m\u001b[0m\n\u001b[1;32m     24\u001b[0m             \u001b[0mmax_smpl\u001b[0m \u001b[0;34m=\u001b[0m \u001b[0mmax\u001b[0m\u001b[0;34m(\u001b[0m\u001b[0mlist\u001b[0m\u001b[0;34m(\u001b[0m\u001b[0mmap\u001b[0m\u001b[0;34m(\u001b[0m\u001b[0;32mlambda\u001b[0m \u001b[0mx\u001b[0m\u001b[0;34m:\u001b[0m \u001b[0mx\u001b[0m\u001b[0;34m[\u001b[0m\u001b[0;36m1\u001b[0m\u001b[0;34m]\u001b[0m\u001b[0;34m,\u001b[0m \u001b[0mfair_pull_set\u001b[0m\u001b[0;34m)\u001b[0m\u001b[0;34m)\u001b[0m\u001b[0;34m)\u001b[0m\u001b[0;34m\u001b[0m\u001b[0;34m\u001b[0m\u001b[0m\n\u001b[0;32m---> 25\u001b[0;31m             \u001b[0mmax_i\u001b[0m \u001b[0;34m=\u001b[0m \u001b[0mupper_conf_bound\u001b[0m\u001b[0;34m.\u001b[0m\u001b[0mindex\u001b[0m\u001b[0;34m(\u001b[0m\u001b[0mmax_smpl\u001b[0m\u001b[0;34m)\u001b[0m\u001b[0;34m\u001b[0m\u001b[0;34m\u001b[0m\u001b[0m\n\u001b[0m\u001b[1;32m     26\u001b[0m \u001b[0;34m\u001b[0m\u001b[0m\n\u001b[1;32m     27\u001b[0m \u001b[0;34m\u001b[0m\u001b[0m\n",
      "\u001b[0;31mUnboundLocalError\u001b[0m: local variable 'upper_conf_bound' referenced before assignment"
     ]
    }
   ],
   "source": [
    "quickTest(1, FairUCBAgent, rounds=1000)"
   ]
  },
  {
   "cell_type": "code",
   "execution_count": null,
   "id": "cfe1d7b7",
   "metadata": {},
   "outputs": [],
   "source": []
  }
 ],
 "metadata": {
  "kernelspec": {
   "display_name": "Python 3",
   "language": "python",
   "name": "python3"
  },
  "language_info": {
   "codemirror_mode": {
    "name": "ipython",
    "version": 3
   },
   "file_extension": ".py",
   "mimetype": "text/x-python",
   "name": "python",
   "nbconvert_exporter": "python",
   "pygments_lexer": "ipython3",
   "version": "3.8.10"
  }
 },
 "nbformat": 4,
 "nbformat_minor": 5
}
