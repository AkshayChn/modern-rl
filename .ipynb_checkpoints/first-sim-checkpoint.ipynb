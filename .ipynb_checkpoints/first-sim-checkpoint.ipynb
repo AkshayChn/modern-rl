{
 "cells": [
  {
   "cell_type": "code",
   "execution_count": 259,
   "id": "cc529c3d",
   "metadata": {},
   "outputs": [],
   "source": [
    "from scipy.stats import bernoulli\n",
    "from scipy.stats import beta\n",
    "from scipy.stats import uniform \n",
    "import math"
   ]
  },
  {
   "cell_type": "code",
   "execution_count": 260,
   "id": "5b155192",
   "metadata": {},
   "outputs": [],
   "source": [
    "class Arm:\n",
    "    \n",
    "    def __init__(self, q):\n",
    "        self.quality     = q\n",
    "        self.num_pulled  = 0\n",
    "        self.num_rewards = 0\n",
    "    \n",
    "    def pullthisarm(self):\n",
    "        reward = bernoulli.rvs(size=1,p=self.quality)[0]\n",
    "        self.num_pulled +=1\n",
    "        self.num_rewards += reward\n",
    "        return reward\n",
    "\n",
    "class Envi:\n",
    "    \n",
    "    def __init__(self):\n",
    "        self.arms = []\n",
    "        \n",
    "        self.best_arm = None\n",
    "        self.cumul_regret = 0\n",
    "        self.cumul_regret_at_round = []\n",
    "        \n",
    "        self.best_arm_unseen = None\n",
    "        self.cumul_regret_unseen = 0\n",
    "        self.cumul_regret_unseen_at_round = []\n",
    "    \n",
    "    def addArm(self, newArm):\n",
    "        self.arms.append(newArm)\n",
    "    \n",
    "    def getQual(self, arm):\n",
    "        return arm.quality\n",
    "    \n",
    "    def getBestArm(self):\n",
    "        return self.best_arm\n",
    "    \n",
    "    def getNewArm(self):\n",
    "        qual = uniform.rvs(size=1)[0]\n",
    "        retArm = Arm(qual)\n",
    "        return retArm\n",
    "    \n",
    "    #hyphothetical get new arm remains\n",
    "    \n",
    "    def pullNewArm(self):\n",
    "        #qual = uniform.rvs(size=1)[0]\n",
    "        #newArm = Arm(qual)\n",
    "        newArm = self.getNewArm()\n",
    "        self.addArm(newArm)\n",
    "        self.best_arm = max(self.arms, key=self.getQual)\n",
    "        self.best_arm_unseen = self.best_arm\n",
    "        self.pull(newArm)\n",
    "    \n",
    "    def pull(self, arm):\n",
    "        reward = arm.pullthisarm()\n",
    "        self.cumul_regret += (self.best_arm.quality - arm.quality)\n",
    "        self.cumul_regret_at_round.append(self.cumul_regret)\n",
    "        \n",
    "        self.best_arm_unseen = max(self.best_arm, self.getNewArm(), key=self.getQual)\n",
    "        return reward"
   ]
  },
  {
   "cell_type": "code",
   "execution_count": 261,
   "id": "59a6f74c",
   "metadata": {
    "scrolled": true
   },
   "outputs": [
    {
     "name": "stdout",
     "output_type": "stream",
     "text": [
      "0.7989919894471388\n",
      "0.027980599805819018\n",
      "0.4642830243499959\n",
      "0.4509486037522633\n",
      "0.7525408446877695\n",
      "0.6572763359749849\n",
      "0.8231197561091839\n",
      "0.8529462636433439\n",
      "0.25627448895296\n",
      "0.2943556780286998\n",
      "best is 0.8529462636433439\n",
      "cumul regret 8.192620318590421\n",
      "num pulls [101, 1, 1, 1, 1, 1, 1, 1, 1, 1]\n",
      "num rewards [78, 0, 1, 0, 1, 0, 1, 1, 0, 0]\n",
      "count cumul_regret_at_round 110\n"
     ]
    }
   ],
   "source": [
    "## Testing, remove this later\n",
    "e = Envi()\n",
    "\n",
    "for i in range(10):\n",
    "    e.pullNewArm()\n",
    "\n",
    "for i in e.arms:\n",
    "    print(i.quality)\n",
    "\n",
    "print(\"best is\", e.getBestArm().quality)\n",
    "\n",
    "for i in range(100):\n",
    "    e.pull(e.arms[0])\n",
    "    \n",
    "print(\"cumul regret\", e.cumul_regret)\n",
    "print(\"num pulls\", list(map(lambda x: x.num_pulled, e.arms)))\n",
    "print(\"num rewards\", list(map(lambda x: x.num_rewards, e.arms)))\n",
    "print(\"count cumul_regret_at_round\", len(e.cumul_regret_at_round))"
   ]
  },
  {
   "cell_type": "markdown",
   "id": "b7070646",
   "metadata": {},
   "source": [
    "# Testing"
   ]
  },
  {
   "cell_type": "code",
   "execution_count": 262,
   "id": "458cf4c8",
   "metadata": {},
   "outputs": [],
   "source": [
    "DEFAULT_TEST_ROUNDS = 1000\n",
    "\n",
    "def quickTest(envr, agent, rounds=DEFAULT_TEST_ROUNDS):\n",
    "    e = Envi()\n",
    "    rounds = 1000\n",
    "    ranAg = agent(e, rounds)\n",
    "    ranAg.playFull()\n",
    "\n",
    "    print(\"cumul regret\", e.cumul_regret)\n",
    "    print(\"tot pulls\", sum(list(map(lambda x: x.num_pulled, e.arms))))\n",
    "    #print(\"num pulls\", list(map(lambda x: x.num_pulled, e.arms)))\n",
    "    #print(\"num rewards\", list(map(lambda x: x.num_rewards, e.arms)))\n",
    "    #print(\"cumul_regret_at_round\", e.cumul_regret_at_round)\n",
    "    print(\"count cumul_regret_at_round\", len(e.cumul_regret_at_round))\n",
    "\n",
    "    import matplotlib.pyplot as plt\n",
    "    time_hor = range(rounds)\n",
    "    plt.plot(time_hor, e.cumul_regret_at_round)"
   ]
  },
  {
   "cell_type": "markdown",
   "id": "45b8cc89",
   "metadata": {},
   "source": [
    "# Agents"
   ]
  },
  {
   "cell_type": "code",
   "execution_count": 263,
   "id": "c49775d4",
   "metadata": {},
   "outputs": [],
   "source": [
    "# Agent abstract class\n",
    "class Agent:\n",
    "    #pulls random arm with p = 0.5 or explores new arm with p = 0.5\n",
    "    def __init__(self, envr, rounds):\n",
    "        self.envr = envr\n",
    "        self.total_rounds = rounds\n",
    "        self.round = 0\n",
    "        self.arm_pulled = []\n",
    "        self.rewards = []\n",
    "        self.total_reward = 0\n",
    "        \n",
    "    def playFull(self):\n",
    "        for i in range(self.total_rounds):\n",
    "            self.playRound()\n"
   ]
  },
  {
   "cell_type": "markdown",
   "id": "3db8634f",
   "metadata": {},
   "source": [
    "## Random Agent"
   ]
  },
  {
   "cell_type": "code",
   "execution_count": 264,
   "id": "8b948759",
   "metadata": {},
   "outputs": [],
   "source": [
    "class RandomAgent(Agent):\n",
    "    \n",
    "    def playRound(self):\n",
    "        self.round += 1\n",
    "        available_arms = self.envr.arms\n",
    "        #print(available_arms)\n",
    "        ran = uniform.rvs(size=1)[0]\n",
    "        if len(self.envr.arms) == 0 or ran > 0.5:\n",
    "            self.envr.pullNewArm()\n",
    "        else:\n",
    "            ran2 = uniform.rvs(size=1)[0]\n",
    "            index = int(ran2*(len(self.envr.arms)))\n",
    "            #print(\"index\", index)\n",
    "            self.envr.pull(self.envr.arms[index])"
   ]
  },
  {
   "cell_type": "code",
   "execution_count": 265,
   "id": "49a560e7",
   "metadata": {
    "scrolled": true
   },
   "outputs": [
    {
     "name": "stdout",
     "output_type": "stream",
     "text": [
      "cumul regret 504.5593609254509\n",
      "tot pulls 1000\n",
      "count cumul_regret_at_round 1000\n"
     ]
    },
    {
     "data": {
      "text/plain": [
       "[<matplotlib.lines.Line2D at 0x7fa2df823490>]"
      ]
     },
     "execution_count": 265,
     "metadata": {},
     "output_type": "execute_result"
    },
    {
     "data": {
      "image/png": "[encoded data removed]",
      "text/plain": [
       "<Figure size 432x288 with 1 Axes>"
      ]
     },
     "metadata": {
      "needs_background": "light"
     },
     "output_type": "display_data"
    }
   ],
   "source": [
    "e = Envi()\n",
    "rounds = 1000\n",
    "ranAg = RandomAgent(e, rounds)\n",
    "ranAg.playFull()\n",
    "\n",
    "print(\"cumul regret\", e.cumul_regret)\n",
    "print(\"tot pulls\", sum(list(map(lambda x: x.num_pulled, e.arms))))\n",
    "#print(\"num pulls\", list(map(lambda x: x.num_pulled, e.arms)))\n",
    "#print(\"num rewards\", list(map(lambda x: x.num_rewards, e.arms)))\n",
    "#print(\"cumul_regret_at_round\", e.cumul_regret_at_round)\n",
    "print(\"count cumul_regret_at_round\", len(e.cumul_regret_at_round))\n",
    "\n",
    "import matplotlib.pyplot as plt\n",
    "time_hor = range(rounds)\n",
    "plt.plot(time_hor, e.cumul_regret_at_round)"
   ]
  },
  {
   "cell_type": "markdown",
   "id": "f751dfa8",
   "metadata": {},
   "source": [
    "## Always-New Agent"
   ]
  },
  {
   "cell_type": "code",
   "execution_count": 266,
   "id": "5c1b8a4d",
   "metadata": {},
   "outputs": [],
   "source": [
    "class AlwaysNewAgent(Agent):\n",
    "    \n",
    "    def playRound(self):\n",
    "        self.round += 1\n",
    "        self.envr.pullNewArm()"
   ]
  },
  {
   "cell_type": "code",
   "execution_count": 267,
   "id": "3950e110",
   "metadata": {},
   "outputs": [
    {
     "name": "stdout",
     "output_type": "stream",
     "text": [
      "cumul regret 506.99633536816344\n",
      "tot pulls 1000\n",
      "count cumul_regret_at_round 1000\n"
     ]
    },
    {
     "data": {
      "image/png": "[encoded data removed]",
      "text/plain": [
       "<Figure size 432x288 with 1 Axes>"
      ]
     },
     "metadata": {
      "needs_background": "light"
     },
     "output_type": "display_data"
    }
   ],
   "source": [
    "quickTest(1, AlwaysNewAgent)"
   ]
  },
  {
   "cell_type": "code",
   "execution_count": null,
   "id": "663bac50",
   "metadata": {},
   "outputs": [],
   "source": []
  }
 ],
 "metadata": {
  "kernelspec": {
   "display_name": "Python 3",
   "language": "python",
   "name": "python3"
  },
  "language_info": {
   "codemirror_mode": {
    "name": "ipython",
    "version": 3
   },
   "file_extension": ".py",
   "mimetype": "text/x-python",
   "name": "python",
   "nbconvert_exporter": "python",
   "pygments_lexer": "ipython3",
   "version": "3.8.10"
  }
 },
 "nbformat": 4,
 "nbformat_minor": 5
}
